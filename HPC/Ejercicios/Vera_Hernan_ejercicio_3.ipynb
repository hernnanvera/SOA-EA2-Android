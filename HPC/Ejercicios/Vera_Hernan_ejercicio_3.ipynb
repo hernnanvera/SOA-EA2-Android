{
  "nbformat": 4,
  "nbformat_minor": 0,
  "metadata": {
    "colab": {
      "name": "Vera_Hernan_ejercicio_3.ipynb",
      "provenance": [],
      "collapsed_sections": [],
      "toc_visible": true
    },
    "kernelspec": {
      "name": "python3",
      "display_name": "Python 3"
    }
  },
  "cells": [
    {
      "cell_type": "markdown",
      "metadata": {
        "id": "ykkkgVwSJ1tB"
      },
      "source": [
        "# 1 Introduccion\n",
        "El complemento a uno de un número binario se define como el valor obtenido al invertir todos los bits en la representación binaria del número (intercambiando 0 por 1 y viceversa). Los complementos del número se componen como el negativo del número original, en algunas operaciones aritméticas. Dentro de una constante (de -1), el complemento a uno se comporta como el negativo del número original con adición binaria. Sin embargo, a diferencia del complemento a dos, estos números no han tenido un uso generalizado debido a problemas tales como el desplazamiento de -1, que negar cero da como resultado un patrón distinto de bit cero negativo.\n",
        "\n",
        "Un sistema de complemento A1 o el complemento aritmético de uno es un sistema donde los números negativos están representados por el inverso de las representaciones binarias de sus correspondientes números positivos. En tal sistema, un número es negado (convertido de positivo a negativo o viceversa) calculando el complemento de los unos. Un sistema de numeración de complementos de N-bit sólo puede representar enteros en el rango  − (2N−1−1) a 2N−1−1 mientras que el Complemento a dos puede expresar −2N−1 a 2N−1−1.\n",
        "\n",
        "El sistema de numeración binaria de complemento a uno se caracteriza por el complemento bit de cualquier valor entero que es el negativo aritmético del valor. Es decir, invertir todos los bits de un número (el complemento lógico) produce el mismo resultado que restar el valor de 0.\n",
        "\n",
        "Muchas computadoras en sus inicios, incluyendo el CDC 6600, el LINC, el PDP-1 y el UNIVAC 1107, usaron la notación de complemento a uno. Los sucesores del CDC 6600 continuaron usando el complemento a uno hasta finales de la década de los 80, y los descendientes de UNIVAC 1107 todavía lo hacen, sin emmbargo la mayoría de las computadoras modernas usan el complemento a dos.\n",
        "\n",
        "En este ejercició se implementará el complemento A1 de un numero binario representado por un array generado con rand(). Para ello se recorrerá cada posición del array y si el valor es 1 se guarda en un nuevo array, el cero en la misma posición. Si el valor encontrado es 0, ser guardará el 1.\n",
        "Se comparará su ejecucion en secuencial frente a su ejecucion en paralelo con OpenMP.\n",
        "\n",
        "Finalmente, se podrá enviar los resultados por un mail ingresado por el usuario, al mismo tiempo que se guardará en el drive con el que se ingresó a este cuaderno.\n",
        "\n",
        "Para la ejecución de complementoA1 se recibe 2 parametros:\n",
        "\n",
        "*   **Primer parametro**: Cantidad de elementos del array que representa al numero binarop\n",
        "*   **Segundo paremetros**: Ciclos(para medir correctamente el tiempo de ejecucion)\n",
        "\n",
        "\n",
        "\n",
        "\n",
        "\n",
        "\n",
        "\n",
        "\n",
        "\n",
        "\n",
        "\n",
        "\n"
      ]
    },
    {
      "cell_type": "markdown",
      "metadata": {
        "id": "udsoqIqqJ6L7"
      },
      "source": [
        "# 2 Armado del ambiente\n",
        "\n",
        "No es necesario ejecuciones previas para el desarrollo."
      ]
    },
    {
      "cell_type": "markdown",
      "metadata": {
        "id": "bUtnjyfW9KjO"
      },
      "source": [
        "# 3 desarrollo\n"
      ]
    },
    {
      "cell_type": "markdown",
      "metadata": {
        "id": "aVqFMrEnqFVH"
      },
      "source": [
        "# 3.1 Generación del archivo cpp"
      ]
    },
    {
      "cell_type": "code",
      "metadata": {
        "id": "cnC8bmpiMAc7"
      },
      "source": [
        "code = \"\"\"\n",
        "\n",
        "#include <iostream>\n",
        "#include <vector>\n",
        "#include <cstdlib>\n",
        "#include <sys/time.h>\n",
        "#include <omp.h>    // Cabecera OpenMP\n",
        "\n",
        "#include <iostream>\n",
        "#include <fstream>\n",
        "#include <string>\n",
        "\n",
        "using namespace std;\n",
        "\n",
        "// ----------------------------------------------------------------------------\n",
        "// Macros que miden el tiempo.\n",
        "\n",
        "static double dHashTiempoHistory[3];\n",
        "static struct timeval tv;\n",
        "\n",
        "#define TIEMPO_INI( h )      \\\n",
        "   gettimeofday(&tv,NULL);   \\\n",
        "   dHashTiempoHistory[ h ] = tv.tv_sec + tv.tv_usec/1000000.0;\n",
        "   \n",
        "   \n",
        "#define TIEMPO_FIN( h )      \\\n",
        "   gettimeofday(&tv,NULL);   \\\n",
        "   dHashTiempoHistory[ h ] = ((tv.tv_sec + tv.tv_usec/1000000.0) - dHashTiempoHistory[ h ]) * 1000; // Devuelvo en milisegundos\n",
        "#define TIEMPO_GET( h ) dHashTiempoHistory[ h ]\n",
        "\n",
        "#define HTH_TOTAL         1\n",
        "#define HTH_SEC      2\n",
        "#define HTH_OMP      3\n",
        "\n",
        "#define COLUMNAS          3\n",
        "#define FILAS             3\n",
        "\n",
        "// ----------------------------------------------------------------------------\n",
        "\n",
        "int main(int argc, char* argv[]) \n",
        "{ \n",
        "\n",
        "  TIEMPO_INI( HTH_TOTAL )\n",
        "\n",
        "  // Leo los parametros.\n",
        "  if( argc != 3 )\n",
        "  {\n",
        "      std::cerr<< \"Error en los parametros de indicar: (Cantidad de elementos),(ciclos ejecucion).\"<<argc<<std::endl;\n",
        "      exit( -1 );\n",
        "  }\n",
        "\n",
        "  int cantidad_N = atoi( argv[1] );\n",
        "  int ciclos = atoi( argv[2]);\n",
        "\n",
        "\n",
        "  //definimos los arrays\n",
        "  int binarioOriginal[cantidad_N];\n",
        "  int binarioComplemento[cantidad_N];\n",
        "  \n",
        "\n",
        " srand(time(NULL));\n",
        " for(int i = 0; i < cantidad_N; i++)\n",
        " {\n",
        "   binarioOriginal[i] = 0 + rand() %2;\n",
        " }\n",
        "\n",
        " // Con OpenMP.\n",
        "\n",
        "int suma = 0;\n",
        "\n",
        "TIEMPO_INI( HTH_OMP ) \n",
        "#pragma omp parallel shared(binarioOriginal,binarioComplemento)\n",
        "{\n",
        "  int i;\n",
        "  #pragma omp for private(cantidad_N)\n",
        "  for (i=0;i<cantidad_N;i++)\n",
        "  {\n",
        "      if(binarioOriginal[i] == 1)\n",
        "      {\n",
        "           binarioComplemento[i] = 0;\n",
        "      }else{\n",
        "           binarioComplemento[i] = 1;\n",
        "      }\n",
        "  }\n",
        "}\n",
        "\n",
        "// Complemento de manera secuencial.\n",
        "TIEMPO_FIN( HTH_OMP )\n",
        "\n",
        "TIEMPO_INI( HTH_SEC )\n",
        "for (int i=0;i<cantidad_N;i++)\n",
        "  {  \n",
        "      if(binarioOriginal[i] == 1)\n",
        "      {\n",
        "           binarioComplemento[i] = 0;\n",
        "      }else{\n",
        "           binarioComplemento[i] = 1;\n",
        "      }\n",
        "      \n",
        "  }\n",
        "TIEMPO_FIN( HTH_SEC )\n",
        "  \n",
        "std::ofstream outfile (\"result.txt\");\n",
        "\n",
        "\n",
        "// Muestro los binarios complementados\n",
        "outfile<<\"------------------------------------------\"<<std::endl;\n",
        "outfile<<\"Binario Original:\"<<std::endl;\n",
        "\n",
        "for (int i = 0; i < cantidad_N; i++) {\n",
        "             //std::cout<<binarioOriginal[i]<<\" \";\n",
        "             outfile<<binarioOriginal[i]<<\" \";\n",
        "        }\n",
        "\n",
        "outfile<<\"\\\\n------------------------------------------\"<<std::endl;\n",
        "outfile<<\"Binario Complemento :\"<<std::endl;\n",
        "  for (int i = 0; i < cantidad_N; i++) {\n",
        "             //std::cout<<binarioComplemento[i]<<\" \";\n",
        "             outfile<<binarioComplemento[i]<<\" \";\n",
        "        }\n",
        "\n",
        "outfile<<\"\\\\n------------------------------------------\"<<std::endl;\n",
        " TIEMPO_FIN( HTH_TOTAL )\n",
        "\n",
        " std::cout<<\"Tiempo TOTAL     : \"<<TIEMPO_GET(HTH_TOTAL   )<<\" [ms]\"<<std::endl;\n",
        " outfile<<\"Tiempo TOTAL     : \"<<TIEMPO_GET(HTH_TOTAL   )<<\" [ms]\"<<std::endl;\n",
        " std::cout<<\"Tiempo  Sec  : \"<<TIEMPO_GET(HTH_SEC)<<\" [ms]\"<<std::endl;\n",
        " outfile<<\"Tiempo  Sec  : \"<<TIEMPO_GET(HTH_SEC)<<\" [ms]\"<<std::endl;\n",
        " std::cout<<\"Tiempo  Omp  : \"<<TIEMPO_GET(HTH_OMP)<<\" [ms]\"<<std::endl;\n",
        " outfile<<\"Tiempo  Omp  : \"<<TIEMPO_GET(HTH_OMP)<<\" [ms]\"<<std::endl;\n",
        " std::cout<<std::endl;\n",
        " outfile<<std::endl;\n",
        "\n",
        "outfile.close();\n",
        "\n",
        "}\n",
        "// ----------------------------------------------------------------------------\n",
        "\n",
        "\"\"\"\n",
        "text_file = open(\"code.cpp\", \"w\")\n",
        "text_file.write(code)\n",
        "text_file.close()\n"
      ],
      "execution_count": 346,
      "outputs": []
    },
    {
      "cell_type": "markdown",
      "metadata": {
        "id": "cOgO1vyzqRoW"
      },
      "source": [
        "# 3.2 Compilacion del archivo cpp"
      ]
    },
    {
      "cell_type": "code",
      "metadata": {
        "id": "Z_0bjkr6MQWk"
      },
      "source": [
        "!g++ -o complementoA1 -fopenmp code.cpp"
      ],
      "execution_count": 347,
      "outputs": []
    },
    {
      "cell_type": "markdown",
      "metadata": {
        "id": "wHnkUcksqW1u"
      },
      "source": [
        "# 3.3 Ejecucion"
      ]
    },
    {
      "cell_type": "code",
      "metadata": {
        "colab": {
          "base_uri": "https://localhost:8080/"
        },
        "id": "I84fR7ynquLy",
        "outputId": "37a1578c-71d2-46fd-d912-1c3bdc916228"
      },
      "source": [
        "%env OMP_NUM_THREADS=4\n",
        "!./complementoA1 50000 20"
      ],
      "execution_count": 348,
      "outputs": [
        {
          "output_type": "stream",
          "text": [
            "env: OMP_NUM_THREADS=4\n",
            "Tiempo TOTAL     : 9.77302 [ms]\n",
            "Tiempo  Sec  : 0.513077 [ms]\n",
            "Tiempo  Omp  : 0.192881 [ms]\n",
            "\n"
          ],
          "name": "stdout"
        }
      ]
    },
    {
      "cell_type": "markdown",
      "metadata": {
        "id": "k7gzzUpdFhfj"
      },
      "source": [
        "# 3.4 Para subir el resultado al drive y recibirlo en el mail"
      ]
    },
    {
      "cell_type": "code",
      "metadata": {
        "colab": {
          "base_uri": "https://localhost:8080/"
        },
        "id": "bCktGp_9n_9z",
        "outputId": "fc79c52d-7964-4ca4-f327-4f73aeddc590"
      },
      "source": [
        "try:\n",
        "  from pydrive.auth import GoogleAuth\n",
        "  from pydrive.drive import GoogleDrive\n",
        "  from google.colab import auth\n",
        "  from oauth2client.client import GoogleCredentials\n",
        "\n",
        "\n",
        "  import smtplib, ssl\n",
        "\n",
        "  from email.mime.multipart import MIMEMultipart\n",
        "  from email.mime.text import MIMEText\n",
        "  from email.mime.base import MIMEBase\n",
        "  from email import encoders\n",
        "\n",
        "  #autentificacion y creacion de cliente PyDrive\n",
        "  auth.authenticate_user()\n",
        "  gauth = GoogleAuth()\n",
        "  gauth.credentials = GoogleCredentials.get_application_default()\n",
        "  drive = GoogleDrive(gauth)\n",
        "\n",
        "  # Creacion y subida del archivo\n",
        "  uploaded = drive.CreateFile({'title': 'Resultado.txt'})\n",
        "  uploaded.SetContentFile('/content/result.txt')\n",
        "  uploaded.Upload()\n",
        "  print('El archivo se subió al drive con el ID {}'.format(uploaded.get('id')))\n",
        "\n",
        "\n",
        "  msg = MIMEMultipart()\n",
        "  mail_content = 'Resultados del complemento A1: tenga en cuanta de agregar la extension .txt y abrir con notepad ++ para mejor visualizacin'\n",
        "\n",
        "  msg.attach(MIMEText(mail_content, 'plain'))\n",
        "\n",
        "  attach_file_path = \"/content/result.txt\"\n",
        "  attach_file_name = \"result.pdf\"\n",
        "\n",
        "  attach_file = open(attach_file_path, 'rb')\n",
        "  payload = MIMEBase('application', 'octate-stream')\n",
        "  payload.set_payload((attach_file).read())\n",
        "  encoders.encode_base64(payload) \n",
        "  payload.add_header('Content-Decomposition', 'attachment', filename=attach_file_name)\n",
        "  msg.attach(payload)\n",
        "\n",
        "  port = 465 \n",
        "  smtp_server = \"smtp.gmail.com\"\n",
        "  sender_email = \"soa.ea3.hpc@gmail.com\" \n",
        "  receiver_email = input(\"Ingrese el mail al que desea enviar los resultados \")\n",
        "  password = \"!soaea3hpc\"\n",
        "\n",
        "  try:\n",
        "    context = ssl.create_default_context()\n",
        "    with smtplib.SMTP_SSL(smtp_server, port, context=context) as server:\n",
        "      server.login(sender_email, password)\n",
        "      server.sendmail(sender_email, receiver_email, msg.as_string())\n",
        "    print(\"El archivo se ha enviado correctamente\")  \n",
        "  except Exception as e:\n",
        "    print(\"Hubo un error al enviar el archivo, revise el mail ingresado\")\n",
        "    print(\"Tipo de excepcion: \", type(e))\n",
        "    print(\"Detalles:: \", e.args)\n",
        "except Exception as e:\n",
        "  print(\"Hubo un error al enviar el archivo via mail o compartirlo al drive\")\n",
        "  print(\"Tipo de excepcion: \", type(e))\n",
        "  print(\"Detalles:: \", e.args)"
      ],
      "execution_count": 351,
      "outputs": [
        {
          "output_type": "stream",
          "text": [
            "El archivo se subió al drive con el ID 1fMHT1p-_YoHmZEVBc9p11x8cKyVPXjiC\n",
            "Ingrese el mail al que desea enviar los resultados v.andinohernan@gmail.com\n",
            "El archivo se ha enviado correctamente\n"
          ],
          "name": "stdout"
        }
      ]
    },
    {
      "cell_type": "markdown",
      "metadata": {
        "id": "nwbFKQRtKddi"
      },
      "source": [
        "# 4 Tabla de pasos\n",
        "Codigo | Función | Detalle\n",
        "---------- | -------   | -------\n",
        "C++        | include   | Importa las bibliotecas necesarias para la ejecucion\n",
        "C++        | gettimeofday | toma el tiempo actual\n",
        "C++        | if( argc != 3 )      | Valida que los parametros de entrada se reciban correctamente\n",
        "C++        | srand(time(NULL))       |Para obtener una generacion aleatoria  de numeros diferentes en cada ejecución\n",
        "C++        | for...rand       | Completa con valores aleatorios entre 1 o 0 el array\n",
        "C++        | #pragma omp parallel shared(binarioOriginal,binarioComplemento)| Paralelizacion especificando las variables de acceso compartido\n",
        "C++        | for...       | Halla del complemento con OpenMP\n",
        "C++        | #pragma omp for private(cantidad_N)| Paralelizacion del for interno especificando las variables privadas\n",
        "C++        | for...       | Halla el complemento de manera secuencial\n",
        "C++        | open()     | Se abre un archivo result \n",
        "C++        | for...outfile       | Grabo en el archivo el binario original\n",
        "C++        | for...outfile       | Grabo en el archivo el complemento\n",
        "C++        | cout         | Muesta por pantalla los resultados de los tiempos de ejecución\n",
        "C++        | outfile         |Grabo en e archivo los resultados de los tiempos de ejecución\n",
        "C++        | close ()    | Se cierra el archivo result\n",
        "Python        | open()     | Se abre un archivo code.cpp\n",
        "Python        | write(c)      | Se escribe el código en el archivo code.cpp\n",
        "Python        | close ()    | Se cierra el archivo code.cpp\n",
        "\n",
        "\n",
        "\n",
        "\n"
      ]
    },
    {
      "cell_type": "markdown",
      "metadata": {
        "id": "1lwnRv-BrB6-"
      },
      "source": [
        "# 4.1 Tabla de pasos envio de mail y subida al drive\n",
        "Codigo | Función | Detalle\n",
        "---------- | -------   | -------\n",
        "Python        | import   | Importa las bibliotecas necesarias para la ejecucion\n",
        "Python        | authenticate_user()   | Autentificación del usuario\n",
        "Python        | GoogleAuth()   | Autentificación del usuario\n",
        "Python        | GoogleCredentials.get_application_default()   | Autentificación del usuario\n",
        "Python        | drive = GoogleDrive(gauth)| Autentificación del usuario\n",
        "Python        | drive.CreateFile({'title': 'Resultado.txt'})| Creacion del archivo\n",
        "Python        | uploaded.SetContentFile('/content/result.txt')| Seteamos su contenido con el de result\n",
        "Python        |uploaded.Upload()| Subimos el archivo al drivev\n",
        "Python        |msg = MIMEMultipart()| Para la creacion del mail\n",
        "Python        |msg.attach(MIMEText(mail_content, 'plain'))| Seteamos el contenido que va a tener el mail\n",
        "Python        |attach_file_path|Establecemos el archivo que se va a enviar\n",
        "Python        |attach_file_name = \"result.pdf\"|definimos su nombre y extension\n",
        "Python        |attach_file = open(attach_file_path, 'rb')|Abrimos el archivo\n",
        "Python        |payload|para configurar el mensaje a enviar\n",
        "Python        |attach|Adjunto el archivo\n",
        "Python        |port = 465 |Define el puerto\n",
        "Python        |smtp_server = \"smtp.gmail.com\" | Establece el server\n",
        "Python        |sender_email = \"soa.ea3.hpc@gmail.com\" | Se define el mail que enviará el mensaje \n",
        "Python        |receiver_email = input|Se pide un email de destino\n",
        "Python        |password = \"!soaea3hpc\"|Se define la contraseña del email de origen de mensaje\n",
        "Python        |login|Loguea la cuenta que enviará el mensaje\n",
        "Python        |sendmail|Se envia el mensaje\n",
        "  \n",
        "\n",
        "\n",
        "\n",
        "\n",
        "\n",
        "\n",
        "\n",
        "\n",
        "\n",
        "\n",
        "\n"
      ]
    },
    {
      "cell_type": "markdown",
      "metadata": {
        "id": "VFkMqjETKjKb"
      },
      "source": [
        "# 5 Conclusiones\n",
        "\n",
        "Podemos observar en este ejercicio donde se raliza el complemento A1 de un número binario, que podemos realizar la ejecucion de un mismo algoritmo de dos maneras diferentes: uno secuencial y otra en paralelo usando OpenMP.\n",
        "\n",
        "Como vemos, los tiempos de ejecución para OpenMP son muchos mejores y esto sucede por que en la implementacion en secuencial, se recorre el array secuencialmente posición por posición hallando su complemento. Es decir comienza por la posición 0 luego la 1, la 2 y asi sucesivamente. Mientras que en la implementacion en paralelo con OpenMP se accede a las distintas posiciones del array de manera concurrente, permitiendo que no deba recorrerse uno por uno para hallar su complemento, sino que lo vaya haciendo en paralelo.Se tuvo que tener en cuenta de agregar lo siguiente: **shared(binarioOriginal)** que es para que el acceso al array pueda ser compartido y **private(cantidad_n)** para que no sucedan condiciones de carrera al tratar de acceder a la varibale.No hizo falta especificar el i en el private ya que por como se definieron los **#pragma**, ya es privado. Sin tener en cuenta esto, la ejecución en paralelo puede llegar a resultar mucho mas lenta que en secuencial.Tambien hay que tener en cuenta que en esta implementacion de paralelismo con open mp no hizo falta utilizar reducciones ya que no se realizaron operaciones aritmeticas, lo cual podria justificar su implementación.\n",
        "\n",
        "Algo que debemos tener en cuenta es que la ejecución con OpenMP es mas eficiente cuando la cantidad de elementos sobre los que se va a trabajar es grande.Como pasaba en el ejercicio 1, la implementacion de paralelismo en caso de entradas pequeñas puede agregar mas costos que luego se ve reflejado en los tiempos de ejecución, lo que puede llevar a unos tiempos de ejecución mejores en la implementación en secuencial.\n",
        "\n",
        "\n",
        "Tiempos con OMP_NUM_THREADS = 4 y 20 ciclos y una entrada de  50000 elementos:\n",
        "\n",
        "*   Tiempo  Sec  : 0.638008 [ms]\n",
        "*   Tiempo  Omp  : 0.306845 [ms]\n",
        "\n",
        "Tambien se buscó explorar los recursos de Colab por lo que para eso se implementó el envio de mail utilzando la libreria smtplib y la subida del resultado al drive utilizando PyDrive. Como conclusión sobre esto, podemos decir que la implementación de ambas funcionalidades fueron sencillas, salvo que en el caso del mail no pudo hallarse la manera que que pueda enviarse con un nombre y una extensión específica.\n",
        "\n",
        "\n",
        "\n",
        "\n",
        "\n",
        "\n",
        "\n",
        "\n"
      ]
    },
    {
      "cell_type": "markdown",
      "metadata": {
        "id": "rjU2GkvWKo35"
      },
      "source": [
        "# 6 Bibliografía"
      ]
    },
    {
      "cell_type": "markdown",
      "metadata": {
        "id": "Bju_BfwbX-UM"
      },
      "source": [
        "[1] LEY DE AMDAHL: [PDF](https://www.cartagena99.com/recursos/alumnos/apuntes/ININF1_M10_U1_T4_MT.pdf)\n",
        "\n",
        "[2] Operaciones matematicas con numeros binarios: [Referencia](https://catedra.ing.unlp.edu.ar/electrotecnia/islyd/apuntes/opmatematicas2003.pdf)\n",
        "\n",
        "[3] OpenMP: [Referencia](http://www.bowdoin.edu/~ltoma/teaching/cs3225-GIS/fall16/Lectures/openmp.html#:~:text=OpenMP%20in%20a%20nutshell&text=Parallel%20code%20with%20OpenMP%20marks,and%20run%20the%20same%20code.)\n",
        "\n",
        "[4] OpenMP apunte utn: [Referencia](https://www.frbb.utn.edu.ar/hpc/lib/exe/fetch.php?media=2016-06-openmp-parte-i.pdf)\n",
        "\n",
        "[5] Envio de mail dedse python: [Referencia](https://uniwebsidad.com/libros/python/capitulo-14/envio-de-e-mail-desde-python)\n",
        "\n",
        "[6] Subir a drive desde python [Referencia](https://riptutorial.com/es/google-cloud-storage/example/28256/subir-archivos-usando-python)\n",
        "\n",
        "\n",
        "\n",
        "\n",
        "\n",
        "\n",
        "\n",
        "\n"
      ]
    }
  ]
}